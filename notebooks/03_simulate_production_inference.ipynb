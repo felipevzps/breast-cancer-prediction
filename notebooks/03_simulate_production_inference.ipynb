{
 "cells": [
  {
   "cell_type": "code",
   "execution_count": 1,
   "id": "8b7fccaa-5549-44f8-ac6d-0c8c81f96ef8",
   "metadata": {},
   "outputs": [
    {
     "name": "stdout",
     "output_type": "stream",
     "text": [
      "current dir: /home/felipevzps/breast-cancer-prediction/notebooks\n",
      "python executable path: /home/felipevzps/miniconda3/envs/breast-cancer-prediction/bin/python\n"
     ]
    }
   ],
   "source": [
    "import os\n",
    "print(f\"current dir: {os.getcwd()}\")\n",
    "\n",
    "import sys\n",
    "print(f\"python executable path: {sys.executable}\")"
   ]
  },
  {
   "cell_type": "code",
   "execution_count": null,
   "id": "547be34c-b234-4ef1-92dc-fe8399b9c466",
   "metadata": {},
   "outputs": [],
   "source": [
    "import joblib\n",
    "import pandas as pd\n",
    "import numpy as np\n",
    "from sklearn.preprocessing import FunctionTransformer"
   ]
  },
  {
   "cell_type": "code",
   "execution_count": null,
   "id": "1efd2c6a-eb1b-4c0d-89e9-13aae35702dc",
   "metadata": {},
   "outputs": [],
   "source": [
    "# add \"src\" to PYTHONPATH\n",
    "notebook_dir = os.path.dirname(os.path.abspath(''))\n",
    "sys.path.append(os.path.join(notebook_dir, 'src'))\n",
    "\n",
    "# import custom functions to transform our data\n",
    "from transformers import replace_question_with_nan, convert_to_numeric"
   ]
  },
  {
   "cell_type": "code",
   "execution_count": null,
   "id": "448ff8ee-e6d1-4a50-970e-ecf2cc9cb283",
   "metadata": {},
   "outputs": [],
   "source": [
    "df = pd.read_csv(\"../data/breast_cancer_bd.csv\")\n",
    "df.head()"
   ]
  },
  {
   "cell_type": "code",
   "execution_count": null,
   "id": "85f70a91-4b4b-45b3-8c4b-049f2184d443",
   "metadata": {},
   "outputs": [],
   "source": [
    "# mapping for \"Class\"\n",
    "mapping = {\n",
    "    2: 0,\n",
    "    4: 1\n",
    "}\n",
    "df[\"Target_Class_Mapped\"] = df[\"Class\"].map(mapping)"
   ]
  },
  {
   "cell_type": "code",
   "execution_count": null,
   "id": "3d1b1929-b90f-4bf8-a9e5-5f5550aee979",
   "metadata": {},
   "outputs": [],
   "source": [
    "# drop \"Sample code number\"\n",
    "df = df.drop(\"Sample code number\", axis=1)"
   ]
  },
  {
   "cell_type": "code",
   "execution_count": null,
   "id": "9dbf44ca-2e80-4a25-84bb-e28f67aa981c",
   "metadata": {},
   "outputs": [],
   "source": [
    "df_without_cancer = df[df[\"Target_Class_Mapped\"] == 0]\n",
    "random_samples_without_cancer = df_without_cancer.sample(n=10, random_state=42)\n",
    "random_samples_without_cancer.head()"
   ]
  },
  {
   "cell_type": "code",
   "execution_count": null,
   "id": "8c1b8bbd-7abe-456e-a6a5-3e23f8ffab08",
   "metadata": {},
   "outputs": [],
   "source": [
    "df_with_cancer = df[df[\"Target_Class_Mapped\"] == 1]\n",
    "random_samples_with_cancer = df_with_cancer.sample(n=10, random_state=42)\n",
    "random_samples_with_cancer.head()"
   ]
  },
  {
   "cell_type": "code",
   "execution_count": null,
   "id": "36a51564-9e46-479e-9759-9fee9c54265b",
   "metadata": {},
   "outputs": [],
   "source": [
    "# concatenate all \"random samples\" in a new dataframe\n",
    "\n",
    "# NOTE: thats not the best practices to test a model\n",
    "# It is just a unit test to see if the model performs well on some \"random\" dataset\n",
    "# to know exactly if the model will work in production, its necessary to generate new synthetic data\n",
    "# to simulate data that was NEVER SEEN BEFORE by the model!\n",
    "\n",
    "# concatenate samples\n",
    "df_test_samples = pd.concat([random_samples_without_cancer, random_samples_with_cancer])\n",
    "df_test_samples = df_test_samples.sample(frac=1, random_state=42).reset_index(drop=True)\n",
    "\n",
    "# create X and y (target)\n",
    "X_test_samples = df_test_samples.drop(columns=[\"Target_Class_Mapped\"])\n",
    "y_test_samples = df_test_samples[\"Target_Class_Mapped\"]"
   ]
  },
  {
   "cell_type": "code",
   "execution_count": null,
   "id": "f04be589-a774-4222-b496-573c52fc32a7",
   "metadata": {},
   "outputs": [],
   "source": [
    "# load model, predict and compare results with \"random\" dataset\n",
    "lr_model_path = \"../model/logreg_breast_cancer_pipeline_v1.0.joblib\"\n",
    "lr_model = joblib.load(lr_model_path)\n",
    "\n",
    "predictions = lr_model.predict(X_test_samples)\n",
    "accuracy = np.mean(predictions == y_test_samples) * 100\n",
    "\n",
    "print(\"--- Random Sample Prediction ---\")\n",
    "print(\"Prediction: \", predictions)\n",
    "print(\"True Label: \", y_test_samples.values)\n",
    "print(f\"\\nCorrect predictions: {accuracy:.2f}%.\")"
   ]
  }
 ],
 "metadata": {
  "kernelspec": {
   "display_name": "Python 3 (ipykernel)",
   "language": "python",
   "name": "python3"
  },
  "language_info": {
   "codemirror_mode": {
    "name": "ipython",
    "version": 3
   },
   "file_extension": ".py",
   "mimetype": "text/x-python",
   "name": "python",
   "nbconvert_exporter": "python",
   "pygments_lexer": "ipython3",
   "version": "3.13.5"
  }
 },
 "nbformat": 4,
 "nbformat_minor": 5
}
